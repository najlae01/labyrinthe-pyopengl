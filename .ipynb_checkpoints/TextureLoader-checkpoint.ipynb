{
 "cells": [
  {
   "cell_type": "code",
   "execution_count": 1,
   "id": "2cfaa7e5",
   "metadata": {},
   "outputs": [],
   "source": [
    "from OpenGL.GL import glBindTexture, glTexParameteri, GL_TEXTURE_2D, GL_TEXTURE_WRAP_S, \\\n",
    "    GL_TEXTURE_WRAP_T, GL_REPEAT, GL_TEXTURE_MIN_FILTER, GL_TEXTURE_MAG_FILTER, GL_LINEAR,\\\n",
    "    glTexImage2D, GL_RGBA, GL_UNSIGNED_BYTE\n",
    "\n",
    "from PIL import Image\n",
    "\n",
    "\n",
    "# for use with GLFW\n",
    "def load_texture(path, texture):\n",
    "    glBindTexture(GL_TEXTURE_2D, texture)\n",
    "    # Set the texture wrapping parameters\n",
    "    glTexParameteri(GL_TEXTURE_2D, GL_TEXTURE_WRAP_S, GL_REPEAT)\n",
    "    glTexParameteri(GL_TEXTURE_2D, GL_TEXTURE_WRAP_T, GL_REPEAT)\n",
    "    # Set texture filtering parameters\n",
    "    glTexParameteri(GL_TEXTURE_2D, GL_TEXTURE_MIN_FILTER, GL_LINEAR)\n",
    "    glTexParameteri(GL_TEXTURE_2D, GL_TEXTURE_MAG_FILTER, GL_LINEAR)\n",
    "    # load image\n",
    "    image = Image.open(path)\n",
    "    image = image.transpose(Image.FLIP_TOP_BOTTOM)\n",
    "    img_data = image.convert(\"RGBA\").tobytes()\n",
    "    glTexImage2D(GL_TEXTURE_2D, 0, GL_RGBA, image.width, image.height, 0, GL_RGBA, GL_UNSIGNED_BYTE, img_data)\n",
    "    return texture\n",
    "\n",
    "\n",
    "# for use with pygame\n",
    "def load_texture_pygame(path, texture):\n",
    "    import pygame\n",
    "    glBindTexture(GL_TEXTURE_2D, texture)\n",
    "    # Set the texture wrapping parameters\n",
    "    glTexParameteri(GL_TEXTURE_2D, GL_TEXTURE_WRAP_S, GL_REPEAT)\n",
    "    glTexParameteri(GL_TEXTURE_2D, GL_TEXTURE_WRAP_T, GL_REPEAT)\n",
    "    # Set texture filtering parameters\n",
    "    glTexParameteri(GL_TEXTURE_2D, GL_TEXTURE_MIN_FILTER, GL_LINEAR)\n",
    "    glTexParameteri(GL_TEXTURE_2D, GL_TEXTURE_MAG_FILTER, GL_LINEAR)\n",
    "    # load image\n",
    "    image = pygame.image.load(path)\n",
    "    image = pygame.transform.flip(image, False, True)\n",
    "    image_width, image_height = image.get_rect().size\n",
    "    img_data = pygame.image.tostring(image, \"RGBA\")\n",
    "    glTexImage2D(GL_TEXTURE_2D, 0, GL_RGBA, image_width, image_height, 0, GL_RGBA, GL_UNSIGNED_BYTE, img_data)\n",
    "    return texture"
   ]
  }
 ],
 "metadata": {
  "kernelspec": {
   "display_name": "Python 3 (ipykernel)",
   "language": "python",
   "name": "python3"
  },
  "language_info": {
   "codemirror_mode": {
    "name": "ipython",
    "version": 3
   },
   "file_extension": ".py",
   "mimetype": "text/x-python",
   "name": "python",
   "nbconvert_exporter": "python",
   "pygments_lexer": "ipython3",
   "version": "3.9.13"
  }
 },
 "nbformat": 4,
 "nbformat_minor": 5
}
